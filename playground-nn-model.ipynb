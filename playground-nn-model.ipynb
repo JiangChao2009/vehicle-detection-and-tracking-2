{
 "cells": [
  {
   "cell_type": "markdown",
   "metadata": {},
   "source": [
    "# Development grounds for code"
   ]
  },
  {
   "cell_type": "code",
   "execution_count": 15,
   "metadata": {
    "collapsed": false
   },
   "outputs": [],
   "source": [
    "from vehicle_detector import *\n",
    "import numpy as np\n",
    "\n",
    "import matplotlib.image as mpimg\n",
    "import matplotlib.pyplot as plt\n",
    "\n",
    "from sklearn.model_selection import train_test_split\n",
    "from sklearn.utils import shuffle\n",
    "\n",
    "from keras.models import Sequential\n",
    "from keras.models import Sequential\n",
    "from keras.layers.core import Dense, Activation, Flatten, SpatialDropout2D, Dropout\n",
    "from keras.layers.convolutional import Convolution2D\n",
    "from keras.layers.pooling import MaxPooling2D\n",
    "\n",
    "import cv2\n",
    "\n",
    "%matplotlib inline"
   ]
  },
  {
   "cell_type": "code",
   "execution_count": 16,
   "metadata": {
    "collapsed": false
   },
   "outputs": [
    {
     "name": "stdout",
     "output_type": "stream",
     "text": [
      "loaded..\n"
     ]
    }
   ],
   "source": [
    "def get_data(sample_size=18458):    \n",
    "    notcar_data_folders = ['./data/non-vehicles/Extras',\n",
    "                           './data/non-vehicles/GTI']\n",
    "\n",
    "    car_data_folders    = ['./data/vehicles/GTI_MiddleClose',\n",
    "                            './data/vehicles/GTI_Far',\n",
    "                            './data/vehicles/KITTI_extracted',\n",
    "                            './data/vehicles/GTI_Right',\n",
    "                            './data/vehicles/GTI_Left']\n",
    "\n",
    "    cars = []\n",
    "    notcars = []\n",
    "    y_one_hot = []\n",
    "    for folder in notcar_data_folders:\n",
    "        image_paths =glob.glob(folder+'/*')\n",
    "        for path in image_paths:\n",
    "            notcars.append(cv2.imread(path))\n",
    "            # One_hot_label encoding\n",
    "            y_one_hot.append([0,1])\n",
    "            if len(notcars) == sample_size:\n",
    "                break\n",
    "        if len(notcars) == sample_size:\n",
    "                break\n",
    "\n",
    "\n",
    "    for folder in car_data_folders:\n",
    "        image_paths =glob.glob(folder+'/*')\n",
    "        for path in image_paths:\n",
    "            cars.append(cv2.imread(path))\n",
    "            y_one_hot.append([1,0])\n",
    "            # One_hot_label encoding\n",
    "            if len(cars) == sample_size:\n",
    "                break\n",
    "        if len(cars) == sample_size:\n",
    "                break\n",
    "\n",
    "\n",
    "    cars = np.array(cars)\n",
    "    notcars = np.array(notcars)\n",
    "    y_one_hot = np.array(y_one_hot)\n",
    "\n",
    "    X = np.concatenate((cars, notcars), axis=0)\n",
    "\n",
    "    del cars\n",
    "    del notcars\n",
    "    \n",
    "    with open('./data/data.p', 'wb') as f:\n",
    "        pickle.dump((X, y_one_hot), f, pickle.HIGHEST_PROTOCOL)\n",
    "\n",
    "# Uncomment for getting new samples sizes        \n",
    "get_data(sample_size=10000)\n",
    "\n",
    "with open('./data/data.p', 'rb') as f:\n",
    "    X, y_one_hot = pickle.load(f)\n",
    "print('loaded..')\n"
   ]
  },
  {
   "cell_type": "code",
   "execution_count": 17,
   "metadata": {
    "collapsed": false
   },
   "outputs": [],
   "source": [
    "def resize_to_target_size(image):\n",
    "    TARGET_SIZE = (32,32)\n",
    "    return cv2.resize(image, TARGET_SIZE)\n",
    "\n",
    "def preprocess_image(image):\n",
    "    image = resize_to_target_size(image)\n",
    "    image = image.astype(np.float32)\n",
    "    # Normalize image\n",
    "    image = image / 255.0 - 0.5\n",
    "    return image\n",
    "\n",
    "X_normalized = []\n",
    "\n",
    "for img in X:\n",
    "    X_normalized.append(preprocess_image(img))\n",
    "    \n",
    "X_normalized = np.array(X_normalized)\n",
    "\n",
    "X_train, X_test, y_train, y_test = train_test_split(X_normalized,\n",
    "                                                    y_one_hot,\n",
    "                                                    random_state=42,\n",
    "                                                    test_size=0.1)\n"
   ]
  },
  {
   "cell_type": "code",
   "execution_count": 19,
   "metadata": {
    "collapsed": false,
    "scrolled": true
   },
   "outputs": [
    {
     "name": "stdout",
     "output_type": "stream",
     "text": [
      "Train on 13289 samples, validate on 3323 samples\n",
      "Epoch 1/3\n",
      "13289/13289 [==============================] - 113s - loss: 0.3272 - acc: 0.8592 - val_loss: 0.2225 - val_acc: 0.9151\n",
      "Epoch 2/3\n",
      "13289/13289 [==============================] - 97s - loss: 0.2079 - acc: 0.9248 - val_loss: 0.1879 - val_acc: 0.9335\n",
      "Epoch 3/3\n",
      "13289/13289 [==============================] - 94s - loss: 0.1801 - acc: 0.9369 - val_loss: 0.1640 - val_acc: 0.9404\n"
     ]
    },
    {
     "data": {
      "text/plain": [
       "<keras.callbacks.History at 0x7fedb8348630>"
      ]
     },
     "execution_count": 19,
     "metadata": {},
     "output_type": "execute_result"
    }
   ],
   "source": [
    "model = Sequential()\n",
    "\n",
    "model.add(Convolution2D(24, 3, 3,\n",
    "                        border_mode='valid',\n",
    "                        input_shape=(32,32, 3)))\n",
    "model.add(Activation('relu'))\n",
    "model.add(Convolution2D(48, 3, 3))\n",
    "model.add(Activation('relu'))\n",
    "model.add(MaxPooling2D())\n",
    "model.add(Dropout(0.25))\n",
    "\n",
    "model.add(Flatten())\n",
    "model.add(Dense(128))\n",
    "model.add(Activation('relu'))\n",
    "model.add(Dropout(0.5))\n",
    "model.add(Dense(2))\n",
    "model.add(Activation('softmax'))\n",
    "\n",
    "\n",
    "\n",
    "# TODO: Compile and train the model\n",
    "model.compile('adam', 'binary_crossentropy', ['accuracy'])\n",
    "model.fit(X_train,\n",
    "          y_train,\n",
    "          batch_size=64,\n",
    "          nb_epoch=5,\n",
    "          verbose=1,\n",
    "          validation_split=0.2,\n",
    "          shuffle= True)\n"
   ]
  },
  {
   "cell_type": "code",
   "execution_count": 20,
   "metadata": {
    "collapsed": false
   },
   "outputs": [
    {
     "name": "stdout",
     "output_type": "stream",
     "text": [
      "____________________________________________________________________________________________________\n",
      "Layer (type)                     Output Shape          Param #     Connected to                     \n",
      "====================================================================================================\n",
      "convolution2d_11 (Convolution2D) (None, 30, 30, 24)    672         convolution2d_input_5[0][0]      \n",
      "____________________________________________________________________________________________________\n",
      "activation_7 (Activation)        (None, 30, 30, 24)    0           convolution2d_11[0][0]           \n",
      "____________________________________________________________________________________________________\n",
      "convolution2d_12 (Convolution2D) (None, 28, 28, 48)    10416       activation_7[0][0]               \n",
      "____________________________________________________________________________________________________\n",
      "activation_8 (Activation)        (None, 28, 28, 48)    0           convolution2d_12[0][0]           \n",
      "____________________________________________________________________________________________________\n",
      "maxpooling2d_8 (MaxPooling2D)    (None, 14, 14, 48)    0           activation_8[0][0]               \n",
      "____________________________________________________________________________________________________\n",
      "dropout_3 (Dropout)              (None, 14, 14, 48)    0           maxpooling2d_8[0][0]             \n",
      "____________________________________________________________________________________________________\n",
      "flatten_3 (Flatten)              (None, 9408)          0           dropout_3[0][0]                  \n",
      "____________________________________________________________________________________________________\n",
      "dense_6 (Dense)                  (None, 128)           1204352     flatten_3[0][0]                  \n",
      "____________________________________________________________________________________________________\n",
      "activation_9 (Activation)        (None, 128)           0           dense_6[0][0]                    \n",
      "____________________________________________________________________________________________________\n",
      "dropout_4 (Dropout)              (None, 128)           0           activation_9[0][0]               \n",
      "____________________________________________________________________________________________________\n",
      "dense_7 (Dense)                  (None, 2)             258         dropout_4[0][0]                  \n",
      "____________________________________________________________________________________________________\n",
      "activation_10 (Activation)       (None, 2)             0           dense_7[0][0]                    \n",
      "====================================================================================================\n",
      "Total params: 1,215,698\n",
      "Trainable params: 1,215,698\n",
      "Non-trainable params: 0\n",
      "____________________________________________________________________________________________________\n"
     ]
    }
   ],
   "source": [
    "model.save('./models/keras(32x32).h5')\n",
    "model.summary()"
   ]
  },
  {
   "cell_type": "code",
   "execution_count": 21,
   "metadata": {
    "collapsed": false
   },
   "outputs": [
    {
     "name": "stdout",
     "output_type": "stream",
     "text": [
      "1846/1846 [==============================] - 4s     \n",
      "loss: 0.18173784388881076\n",
      "acc: 0.9355362950141096\n"
     ]
    }
   ],
   "source": [
    "# TODO: Evaluate model on test data\n",
    "\n",
    "metrics = model.evaluate(X_test, y_test)\n",
    "for metric_i in range(len(model.metrics_names)):\n",
    "    metric_name = model.metrics_names[metric_i]\n",
    "    metric_value = metrics[metric_i]\n",
    "    print('{}: {}'.format(metric_name, metric_value))"
   ]
  },
  {
   "cell_type": "code",
   "execution_count": null,
   "metadata": {
    "collapsed": true
   },
   "outputs": [],
   "source": [
    "def get_model():\n",
    "    \"\"\"\n",
    "    NVIDIA Model...\n",
    "    \"\"\"\n",
    "\n",
    "    model = Sequential([\n",
    "\n",
    "        # Conv 5x5\n",
    "        Convolution2D(24, 5, 5, border_mode='same', activation='elu',\n",
    "                      input_shape=(32, 32, 3)),\n",
    "        MaxPooling2D(border_mode='same'),\n",
    "        # Conv 5x5\n",
    "        Convolution2D(36, 3, 3, border_mode='same', activation='elu'),\n",
    "        MaxPooling2D(border_mode='same'),\n",
    "        SpatialDropout2D(0.2),\n",
    "        # Conv 3x3\n",
    "        Convolution2D(48, 3, 3, border_mode='same', activation='elu'),\n",
    "        MaxPooling2D(border_mode='same'),\n",
    "        SpatialDropout2D(0.2),\n",
    "        # Conv 3x3\n",
    "        Convolution2D(64, 3, 3, border_mode='same', activation='elu'),\n",
    "        MaxPooling2D(border_mode='same'),\n",
    "        SpatialDropout2D(0.2),\n",
    "        # Conv 3x3\n",
    "        Convolution2D(64, 3, 3, border_mode='same', activation='elu'),\n",
    "        MaxPooling2D(border_mode='same'),\n",
    "        SpatialDropout2D(0.2),\n",
    "        # Flatten\n",
    "        Flatten(),\n",
    "        # Fully Connected\n",
    "        Dense(100, activation='elu'),\n",
    "        Dense(50, activation='elu'),\n",
    "        Dense(10, activation='elu'),\n",
    "        Dense(2, activation='linear')\n",
    "    ])\n",
    "    model.add(Activation('softmax'))\n",
    "    return model"
   ]
  }
 ],
 "metadata": {
  "anaconda-cloud": {},
  "kernelspec": {
   "display_name": "Python [conda env:sdc]",
   "language": "python",
   "name": "conda-env-sdc-py"
  },
  "language_info": {
   "codemirror_mode": {
    "name": "ipython",
    "version": 3
   },
   "file_extension": ".py",
   "mimetype": "text/x-python",
   "name": "python",
   "nbconvert_exporter": "python",
   "pygments_lexer": "ipython3",
   "version": "3.5.2"
  },
  "toc": {
   "nav_menu": {
    "height": "48px",
    "width": "252px"
   },
   "navigate_menu": true,
   "number_sections": true,
   "sideBar": true,
   "threshold": 4,
   "toc_cell": false,
   "toc_section_display": "block",
   "toc_window_display": false
  }
 },
 "nbformat": 4,
 "nbformat_minor": 1
}
